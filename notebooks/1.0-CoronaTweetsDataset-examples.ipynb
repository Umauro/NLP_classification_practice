{
 "cells": [
  {
   "cell_type": "code",
   "execution_count": 1,
   "id": "0fba7a42",
   "metadata": {},
   "outputs": [
    {
     "data": {
      "text/html": [
       "<style>.container { width:95% !important; }</style>"
      ],
      "text/plain": [
       "<IPython.core.display.HTML object>"
      ]
     },
     "metadata": {},
     "output_type": "display_data"
    }
   ],
   "source": [
    "from IPython.display import IFrame\n",
    "from IPython.core.display import display, HTML\n",
    "display(HTML(\"<style>.container { width:95% !important; }</style>\"))"
   ]
  },
  {
   "cell_type": "markdown",
   "id": "42fa8baa",
   "metadata": {},
   "source": [
    "# CoronaTweetsDataset usage"
   ]
  },
  {
   "cell_type": "markdown",
   "id": "3bc5767b",
   "metadata": {},
   "source": [
    "Examples of use of this class c:"
   ]
  },
  {
   "cell_type": "markdown",
   "id": "20b3b024",
   "metadata": {},
   "source": [
    "## Imports"
   ]
  },
  {
   "cell_type": "code",
   "execution_count": 2,
   "id": "75c64b49",
   "metadata": {},
   "outputs": [],
   "source": [
    "import sys\n",
    "from pathlib import Path\n",
    "\n",
    "# Add src folder in order to load Dataset class\n",
    "src_path = str(Path.cwd().parents[0] / \"src\")\n",
    "\n",
    "if src_path not in sys.path:\n",
    "    sys.path.append(src_path)"
   ]
  },
  {
   "cell_type": "code",
   "execution_count": 3,
   "id": "b93eafed",
   "metadata": {},
   "outputs": [],
   "source": [
    "import pandas as pd\n",
    "from torch.utils.data import DataLoader\n",
    "from transformers import BertTokenizer\n",
    "from models.corona_tweet_dataset import CoronaTweetsDataset"
   ]
  },
  {
   "cell_type": "markdown",
   "id": "9921a6cc",
   "metadata": {},
   "source": [
    "### Instanciate a CoronaTweetDataset object\n",
    "\n",
    "We need a pandas dataframe with the dataset, a Huggingface's Bert Tokenizer and an int with Max sequence length"
   ]
  },
  {
   "cell_type": "code",
   "execution_count": 4,
   "id": "563656d1",
   "metadata": {},
   "outputs": [],
   "source": [
    "df = pd.read_csv('../data/processed/df_train.csv', sep=',')\n",
    "tokenizer = BertTokenizer.from_pretrained('bert-base-uncased')\n",
    "MAX_SEQ_LEN = 256 #some number c:"
   ]
  },
  {
   "cell_type": "code",
   "execution_count": 5,
   "id": "8ac4c0d7",
   "metadata": {},
   "outputs": [],
   "source": [
    "train_dataset = CoronaTweetsDataset(df, tokenizer, MAX_SEQ_LEN)"
   ]
  },
  {
   "cell_type": "markdown",
   "id": "57aa850b",
   "metadata": {},
   "source": [
    "So, we can get a sample directly selecting an index. "
   ]
  },
  {
   "cell_type": "code",
   "execution_count": 6,
   "id": "292422e8",
   "metadata": {},
   "outputs": [
    {
     "data": {
      "text/plain": [
       "{'input_ids': tensor([[  101,  5254,  5254,  5254, 24471,  2140,   102,     0,     0,     0,\n",
       "              0,     0,     0,     0,     0,     0,     0,     0,     0,     0,\n",
       "              0,     0,     0,     0,     0,     0,     0,     0,     0,     0,\n",
       "              0,     0,     0,     0,     0,     0,     0,     0,     0,     0,\n",
       "              0,     0,     0,     0,     0,     0,     0,     0,     0,     0,\n",
       "              0,     0,     0,     0,     0,     0,     0,     0,     0,     0,\n",
       "              0,     0,     0,     0,     0,     0,     0,     0,     0,     0,\n",
       "              0,     0,     0,     0,     0,     0,     0,     0,     0,     0,\n",
       "              0,     0,     0,     0,     0,     0,     0,     0,     0,     0,\n",
       "              0,     0,     0,     0,     0,     0,     0,     0,     0,     0,\n",
       "              0,     0,     0,     0,     0,     0,     0,     0,     0,     0,\n",
       "              0,     0,     0,     0,     0,     0,     0,     0,     0,     0,\n",
       "              0,     0,     0,     0,     0,     0,     0,     0,     0,     0,\n",
       "              0,     0,     0,     0,     0,     0,     0,     0,     0,     0,\n",
       "              0,     0,     0,     0,     0,     0,     0,     0,     0,     0,\n",
       "              0,     0,     0,     0,     0,     0,     0,     0,     0,     0,\n",
       "              0,     0,     0,     0,     0,     0,     0,     0,     0,     0,\n",
       "              0,     0,     0,     0,     0,     0,     0,     0,     0,     0,\n",
       "              0,     0,     0,     0,     0,     0,     0,     0,     0,     0,\n",
       "              0,     0,     0,     0,     0,     0,     0,     0,     0,     0,\n",
       "              0,     0,     0,     0,     0,     0,     0,     0,     0,     0,\n",
       "              0,     0,     0,     0,     0,     0,     0,     0,     0,     0,\n",
       "              0,     0,     0,     0,     0,     0,     0,     0,     0,     0,\n",
       "              0,     0,     0,     0,     0,     0,     0,     0,     0,     0,\n",
       "              0,     0,     0,     0,     0,     0,     0,     0,     0,     0,\n",
       "              0,     0,     0,     0,     0,     0]]),\n",
       " 'attention_mask': tensor([[1, 1, 1, 1, 1, 1, 1, 0, 0, 0, 0, 0, 0, 0, 0, 0, 0, 0, 0, 0, 0, 0, 0, 0,\n",
       "          0, 0, 0, 0, 0, 0, 0, 0, 0, 0, 0, 0, 0, 0, 0, 0, 0, 0, 0, 0, 0, 0, 0, 0,\n",
       "          0, 0, 0, 0, 0, 0, 0, 0, 0, 0, 0, 0, 0, 0, 0, 0, 0, 0, 0, 0, 0, 0, 0, 0,\n",
       "          0, 0, 0, 0, 0, 0, 0, 0, 0, 0, 0, 0, 0, 0, 0, 0, 0, 0, 0, 0, 0, 0, 0, 0,\n",
       "          0, 0, 0, 0, 0, 0, 0, 0, 0, 0, 0, 0, 0, 0, 0, 0, 0, 0, 0, 0, 0, 0, 0, 0,\n",
       "          0, 0, 0, 0, 0, 0, 0, 0, 0, 0, 0, 0, 0, 0, 0, 0, 0, 0, 0, 0, 0, 0, 0, 0,\n",
       "          0, 0, 0, 0, 0, 0, 0, 0, 0, 0, 0, 0, 0, 0, 0, 0, 0, 0, 0, 0, 0, 0, 0, 0,\n",
       "          0, 0, 0, 0, 0, 0, 0, 0, 0, 0, 0, 0, 0, 0, 0, 0, 0, 0, 0, 0, 0, 0, 0, 0,\n",
       "          0, 0, 0, 0, 0, 0, 0, 0, 0, 0, 0, 0, 0, 0, 0, 0, 0, 0, 0, 0, 0, 0, 0, 0,\n",
       "          0, 0, 0, 0, 0, 0, 0, 0, 0, 0, 0, 0, 0, 0, 0, 0, 0, 0, 0, 0, 0, 0, 0, 0,\n",
       "          0, 0, 0, 0, 0, 0, 0, 0, 0, 0, 0, 0, 0, 0, 0, 0]]),\n",
       " 'token_type_ids': tensor([[0, 0, 0, 0, 0, 0, 0, 0, 0, 0, 0, 0, 0, 0, 0, 0, 0, 0, 0, 0, 0, 0, 0, 0,\n",
       "          0, 0, 0, 0, 0, 0, 0, 0, 0, 0, 0, 0, 0, 0, 0, 0, 0, 0, 0, 0, 0, 0, 0, 0,\n",
       "          0, 0, 0, 0, 0, 0, 0, 0, 0, 0, 0, 0, 0, 0, 0, 0, 0, 0, 0, 0, 0, 0, 0, 0,\n",
       "          0, 0, 0, 0, 0, 0, 0, 0, 0, 0, 0, 0, 0, 0, 0, 0, 0, 0, 0, 0, 0, 0, 0, 0,\n",
       "          0, 0, 0, 0, 0, 0, 0, 0, 0, 0, 0, 0, 0, 0, 0, 0, 0, 0, 0, 0, 0, 0, 0, 0,\n",
       "          0, 0, 0, 0, 0, 0, 0, 0, 0, 0, 0, 0, 0, 0, 0, 0, 0, 0, 0, 0, 0, 0, 0, 0,\n",
       "          0, 0, 0, 0, 0, 0, 0, 0, 0, 0, 0, 0, 0, 0, 0, 0, 0, 0, 0, 0, 0, 0, 0, 0,\n",
       "          0, 0, 0, 0, 0, 0, 0, 0, 0, 0, 0, 0, 0, 0, 0, 0, 0, 0, 0, 0, 0, 0, 0, 0,\n",
       "          0, 0, 0, 0, 0, 0, 0, 0, 0, 0, 0, 0, 0, 0, 0, 0, 0, 0, 0, 0, 0, 0, 0, 0,\n",
       "          0, 0, 0, 0, 0, 0, 0, 0, 0, 0, 0, 0, 0, 0, 0, 0, 0, 0, 0, 0, 0, 0, 0, 0,\n",
       "          0, 0, 0, 0, 0, 0, 0, 0, 0, 0, 0, 0, 0, 0, 0, 0]]),\n",
       " 'labels': tensor([[0, 1, 0]])}"
      ]
     },
     "execution_count": 6,
     "metadata": {},
     "output_type": "execute_result"
    }
   ],
   "source": [
    "train_dataset[0]"
   ]
  },
  {
   "cell_type": "markdown",
   "id": "2bf2fac7",
   "metadata": {},
   "source": [
    "We get a dictionary with input_ids, attention_mask, token_type_ids, and label tensors. Note that the text tokens are padded in order to reach max_seq_len."
   ]
  },
  {
   "cell_type": "markdown",
   "id": "af80d375",
   "metadata": {},
   "source": [
    "## Dataloader\n",
    "\n",
    "During training loop we could use a DataLoader in order to manage our sample's batchs."
   ]
  },
  {
   "cell_type": "code",
   "execution_count": 7,
   "id": "e86e04de",
   "metadata": {},
   "outputs": [],
   "source": [
    "BATCH_SIZE = 32\n",
    "\n",
    "train_dataloader = DataLoader(\n",
    "    train_dataset,\n",
    "    batch_size=BATCH_SIZE,\n",
    "    shuffle=True,\n",
    "    num_workers=0\n",
    ")"
   ]
  },
  {
   "cell_type": "markdown",
   "id": "b9ddadb0",
   "metadata": {},
   "source": [
    "We could access our data with the DataLoader,"
   ]
  },
  {
   "cell_type": "code",
   "execution_count": 10,
   "id": "ecc3f947",
   "metadata": {},
   "outputs": [
    {
     "name": "stdout",
     "output_type": "stream",
     "text": [
      "{'input_ids': tensor([[[ 101, 3342, 2122,  ...,    0,    0,    0]],\n",
      "\n",
      "        [[ 101, 2866, 1055,  ...,    0,    0,    0]],\n",
      "\n",
      "        [[ 101, 2034, 5095,  ...,    0,    0,    0]],\n",
      "\n",
      "        ...,\n",
      "\n",
      "        [[ 101, 4067, 2017,  ...,    0,    0,    0]],\n",
      "\n",
      "        [[ 101, 1037, 2158,  ...,    0,    0,    0]],\n",
      "\n",
      "        [[ 101, 1996, 2878,  ...,    0,    0,    0]]]), 'attention_mask': tensor([[[1, 1, 1,  ..., 0, 0, 0]],\n",
      "\n",
      "        [[1, 1, 1,  ..., 0, 0, 0]],\n",
      "\n",
      "        [[1, 1, 1,  ..., 0, 0, 0]],\n",
      "\n",
      "        ...,\n",
      "\n",
      "        [[1, 1, 1,  ..., 0, 0, 0]],\n",
      "\n",
      "        [[1, 1, 1,  ..., 0, 0, 0]],\n",
      "\n",
      "        [[1, 1, 1,  ..., 0, 0, 0]]]), 'token_type_ids': tensor([[[0, 0, 0,  ..., 0, 0, 0]],\n",
      "\n",
      "        [[0, 0, 0,  ..., 0, 0, 0]],\n",
      "\n",
      "        [[0, 0, 0,  ..., 0, 0, 0]],\n",
      "\n",
      "        ...,\n",
      "\n",
      "        [[0, 0, 0,  ..., 0, 0, 0]],\n",
      "\n",
      "        [[0, 0, 0,  ..., 0, 0, 0]],\n",
      "\n",
      "        [[0, 0, 0,  ..., 0, 0, 0]]]), 'labels': tensor([[[0, 1, 0]],\n",
      "\n",
      "        [[0, 0, 1]],\n",
      "\n",
      "        [[0, 0, 1]],\n",
      "\n",
      "        [[0, 1, 0]],\n",
      "\n",
      "        [[1, 0, 0]],\n",
      "\n",
      "        [[1, 0, 0]],\n",
      "\n",
      "        [[0, 1, 0]],\n",
      "\n",
      "        [[0, 0, 1]],\n",
      "\n",
      "        [[0, 0, 1]],\n",
      "\n",
      "        [[1, 0, 0]],\n",
      "\n",
      "        [[1, 0, 0]],\n",
      "\n",
      "        [[1, 0, 0]],\n",
      "\n",
      "        [[0, 1, 0]],\n",
      "\n",
      "        [[0, 0, 1]],\n",
      "\n",
      "        [[0, 0, 1]],\n",
      "\n",
      "        [[0, 1, 0]],\n",
      "\n",
      "        [[1, 0, 0]],\n",
      "\n",
      "        [[1, 0, 0]],\n",
      "\n",
      "        [[1, 0, 0]],\n",
      "\n",
      "        [[0, 0, 1]],\n",
      "\n",
      "        [[0, 0, 1]],\n",
      "\n",
      "        [[1, 0, 0]],\n",
      "\n",
      "        [[0, 0, 1]],\n",
      "\n",
      "        [[1, 0, 0]],\n",
      "\n",
      "        [[0, 0, 1]],\n",
      "\n",
      "        [[0, 0, 1]],\n",
      "\n",
      "        [[0, 0, 1]],\n",
      "\n",
      "        [[0, 0, 1]],\n",
      "\n",
      "        [[1, 0, 0]],\n",
      "\n",
      "        [[0, 0, 1]],\n",
      "\n",
      "        [[1, 0, 0]],\n",
      "\n",
      "        [[1, 0, 0]]])}\n"
     ]
    }
   ],
   "source": [
    "for batch in train_dataloader:\n",
    "    print(batch)\n",
    "    break"
   ]
  }
 ],
 "metadata": {
  "kernelspec": {
   "display_name": "Python 3",
   "language": "python",
   "name": "python3"
  },
  "language_info": {
   "codemirror_mode": {
    "name": "ipython",
    "version": 3
   },
   "file_extension": ".py",
   "mimetype": "text/x-python",
   "name": "python",
   "nbconvert_exporter": "python",
   "pygments_lexer": "ipython3",
   "version": "3.9.1"
  }
 },
 "nbformat": 4,
 "nbformat_minor": 5
}
